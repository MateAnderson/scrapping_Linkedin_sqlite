{
 "cells": [
  {
   "cell_type": "markdown",
   "id": "741c7d19",
   "metadata": {},
   "source": [
    "Requirements\n",
    "+ python (preferably 3.9>)\n",
    "+ selenium\n",
    "+ bs4\n",
    "+ A linkedin account!\n",
    "+ chromedriver.exe on your local machine"
   ]
  },
  {
   "cell_type": "markdown",
   "id": "a2394be4",
   "metadata": {},
   "source": [
    "# Constants:"
   ]
  },
  {
   "cell_type": "code",
   "execution_count": 47,
   "id": "be91a9c5",
   "metadata": {},
   "outputs": [],
   "source": [
    "MY_DRIVER_PATH = \"C:/chromedriver.exe\"\n",
    "DB_NAME = \"connections.db\"\n",
    "LOG_NAME = \"Linkedin.log\"\n",
    "USER_NAME = \"Your_User_name\"\n",
    "PASSWORD = \"Your_Password\"\n",
    "SING_IN_PAGE = \"https://www.linkedin.com/login?fromSignIn=true&trk=guest_homepage-basic_nav-header-signin\"\n",
    "CONNECTIONS_PAGE = \"https://www.linkedin.com/mynetwork/invite-connect/connections/\"\n",
    "MY_PAGE = \"https://www.linkedin.com/in/mohammadreza-ardestani/\""
   ]
  },
  {
   "cell_type": "markdown",
   "id": "def70239",
   "metadata": {},
   "source": [
    "# Imports"
   ]
  },
  {
   "cell_type": "code",
   "execution_count": 12,
   "id": "d19cde38",
   "metadata": {},
   "outputs": [],
   "source": [
    "from selenium import webdriver\n",
    "from selenium.webdriver.common.keys import Keys\n",
    "from selenium.webdriver.support import expected_conditions as EC\n",
    "from selenium.webdriver.common.by import By\n",
    "from selenium.webdriver.support.wait import WebDriverWait\n",
    "from selenium.webdriver.edge.service import Service\n",
    "\n",
    "import time \n",
    "\n",
    "from bs4 import BeautifulSoup\n",
    "\n",
    "import sqlite3\n",
    "\n",
    "import logging"
   ]
  },
  {
   "cell_type": "markdown",
   "id": "13eebfa2",
   "metadata": {},
   "source": [
    "# Subroutines"
   ]
  },
  {
   "cell_type": "code",
   "execution_count": 45,
   "id": "1544ce39",
   "metadata": {},
   "outputs": [],
   "source": [
    "def dump_data(data):\n",
    "    logging.info(\" *** Start dumping data to sqlite3  *** \")\n",
    "    con = sqlite3.connect('connections.db')\n",
    "    cur = con.cursor()\n",
    "    cur.execute(\"\"\"CREATE TABLE people(\n",
    "                name text,\n",
    "                occupation text,\n",
    "                location text,\n",
    "                link text\n",
    "                )\"\"\")\n",
    "    for lst in data: # lst is a list of information for one person\n",
    "        try:\n",
    "            cur.execute(\"INSERT INTO people VALUES (?,?,?,?)\",(lst[0],lst[1],lst[2],lst[3]))\n",
    "            con.commit()\n",
    "        except:\n",
    "            logging.error(f'+++info of person:{lst[0]} had problem while dumpping it+++')\n",
    "    \n",
    "    con.close()        \n",
    "    mess = \"dummped all contacts info Successfully\"\n",
    "    print(mess)    \n",
    "    logging.info(mess)"
   ]
  },
  {
   "cell_type": "code",
   "execution_count": 40,
   "id": "057d4332",
   "metadata": {},
   "outputs": [],
   "source": [
    "def crawler(driver, links):\n",
    "    info = []\n",
    "    i = -1\n",
    "    for lk in links:\n",
    "        i+=1\n",
    "        try:\n",
    "            driver.get(lk)\n",
    "            time.sleep(5)\n",
    "            src = driver.page_source\n",
    "            tmp = extract_info(src,lk)\n",
    "            info.append(tmp)\n",
    "            logging.info(f'id:{i} Successfully logged user:{tmp[0]}\\n\\n')\n",
    "        except:\n",
    "            logging.error(f'id:{i} +++ Error +++ raised for first try for user:{tmp[3]}\\n\\n')\n",
    "            try:\n",
    "                driver = build_driver()\n",
    "                sing_in(driver)\n",
    "                driver.get(lk)\n",
    "                time.sleep(5)\n",
    "                src = driver.page_source\n",
    "                tmp = extract_info(src,lk)\n",
    "                info.append(tmp)\n",
    "                logging.info(f'id:{i} Successfully logged user:{tmp[0]}\\n\\n')\n",
    "            except:\n",
    "                logging.error(f'id:{i} +++++ second time Error ++++++ \\n\\n')\n",
    "                return -1\n",
    "            \n",
    "        \n",
    "    logging.info(\"SUCCESSFULLY LOGGED ALL USERS\")\n",
    "    return info"
   ]
  },
  {
   "cell_type": "code",
   "execution_count": 37,
   "id": "eed15a19",
   "metadata": {},
   "outputs": [],
   "source": [
    "def extract_info(src,lk):\n",
    "    tmp = [\"\" for _ in range(0,4)]\n",
    "    tmp[3] = lk\n",
    "    soup = BeautifulSoup(src, \"html.parser\")\n",
    "    intro = soup.find('div', {'class': 'pv-text-details__left-panel'})\n",
    "    name_loc = intro.find(\"h1\")\n",
    "    name = name_loc.get_text().strip()\n",
    "    works_at_loc = intro.find(\"div\", {'class': 'text-body-medium'})\n",
    "    works_at = works_at_loc.get_text().strip()\n",
    "    intro2 = soup.find('div', {'class': 'pb2 pv-text-details__left-panel'})\n",
    "    location_loc = intro2.find_all(\"span\", {'class': 'text-body-small'})\n",
    "    location = location_loc[0].get_text().strip()\n",
    "    tmp[0],tmp[1],tmp[2] = name,works_at,location\n",
    "    return tmp\n",
    "    "
   ]
  },
  {
   "cell_type": "code",
   "execution_count": 38,
   "id": "44ad0dd8",
   "metadata": {},
   "outputs": [],
   "source": [
    "def grab_links(driver):\n",
    "    sing_in(d)\n",
    "    driver.get(CONNECTIONS_PAGE)\n",
    "    time.sleep(30)\n",
    "    lnks=driver.find_elements_by_tag_name(\"a\")\n",
    "    connections_links = []\n",
    "    for lnk in lnks[8:210]: # out of this range is useless \n",
    "        connections_links.append(lnk.get_attribute('href'))\n",
    "    # remove dublicates\n",
    "    del connections_links[1::2]\n",
    "    connections_links.append(MY_PAGE)\n",
    "    return connections_links\n"
   ]
  },
  {
   "cell_type": "code",
   "execution_count": 39,
   "id": "68f36393",
   "metadata": {},
   "outputs": [],
   "source": [
    "def sing_in(driver):\n",
    "    driver.get(SING_IN_PAGE)\n",
    "    time.sleep(5)\n",
    "    # sing in\n",
    "    username = driver.find_element_by_xpath(\"//input[@name='session_key']\")\n",
    "    password = driver.find_element_by_xpath(\"//input[@name='session_password']\")\n",
    "\n",
    "    username.send_keys(USER_NAME)\n",
    "    password.send_keys(PASSWORD)\n",
    "    time.sleep(5)\n",
    "    submit = driver.find_element_by_xpath(\"//button[@type='submit']\").click()\n",
    "    time.sleep(5)"
   ]
  },
  {
   "cell_type": "code",
   "execution_count": 18,
   "id": "0ab01110",
   "metadata": {},
   "outputs": [],
   "source": [
    "def build_driver():\n",
    "    ser = Service(MY_DRIVER_PATH)\n",
    "    op = webdriver.ChromeOptions()\n",
    "    driver = webdriver.Chrome(service=ser, options=op)\n",
    "    return driver"
   ]
  },
  {
   "cell_type": "markdown",
   "id": "322131eb",
   "metadata": {},
   "source": [
    "# Driver code (aka main function)"
   ]
  },
  {
   "cell_type": "code",
   "execution_count": 32,
   "id": "5cc8d7fb",
   "metadata": {},
   "outputs": [],
   "source": [
    "d = build_driver()"
   ]
  },
  {
   "cell_type": "code",
   "execution_count": 33,
   "id": "a80d78a5",
   "metadata": {},
   "outputs": [
    {
     "name": "stderr",
     "output_type": "stream",
     "text": [
      "C:\\Users\\Mohamadreza.a\\AppData\\Local\\Temp\\ipykernel_16372\\2719322194.py:5: DeprecationWarning: find_element_by_* commands are deprecated. Please use find_element() instead\n",
      "  username = driver.find_element_by_xpath(\"//input[@name='session_key']\")\n",
      "C:\\Users\\Mohamadreza.a\\AppData\\Local\\Temp\\ipykernel_16372\\2719322194.py:6: DeprecationWarning: find_element_by_* commands are deprecated. Please use find_element() instead\n",
      "  password = driver.find_element_by_xpath(\"//input[@name='session_password']\")\n",
      "C:\\Users\\Mohamadreza.a\\AppData\\Local\\Temp\\ipykernel_16372\\2719322194.py:11: DeprecationWarning: find_element_by_* commands are deprecated. Please use find_element() instead\n",
      "  submit = driver.find_element_by_xpath(\"//button[@type='submit']\").click()\n",
      "C:\\Users\\Mohamadreza.a\\AppData\\Local\\Temp\\ipykernel_16372\\1550826900.py:5: DeprecationWarning: find_elements_by_* commands are deprecated. Please use find_elements() instead\n",
      "  lnks=driver.find_elements_by_tag_name(\"a\")\n"
     ]
    }
   ],
   "source": [
    "connections_links = grab_links(d)"
   ]
  },
  {
   "cell_type": "code",
   "execution_count": 34,
   "id": "8af63ef8",
   "metadata": {},
   "outputs": [
    {
     "data": {
      "text/plain": [
       "102"
      ]
     },
     "execution_count": 34,
     "metadata": {},
     "output_type": "execute_result"
    }
   ],
   "source": [
    "len(connections_links)"
   ]
  },
  {
   "cell_type": "code",
   "execution_count": 35,
   "id": "03507469",
   "metadata": {},
   "outputs": [],
   "source": [
    "#initializing logs file\n",
    "logging.basicConfig(filename='linkedin.log',level=logging.DEBUG,\n",
    "                    format='%(asctime)s:%(levelname)s:%(message)s')"
   ]
  },
  {
   "cell_type": "code",
   "execution_count": 41,
   "id": "8be5e020",
   "metadata": {},
   "outputs": [],
   "source": [
    "info = crawler(driver= d, links =connections_links)"
   ]
  },
  {
   "cell_type": "code",
   "execution_count": 44,
   "id": "420170d2",
   "metadata": {},
   "outputs": [
    {
     "data": {
      "text/plain": [
       "['Amir Hassan Mousavi',\n",
       " 'Digikala Group Corporate Communications Senior Manager',\n",
       " 'Tehran, Iran',\n",
       " 'https://www.linkedin.com/in/amirhassanmousavi/']"
      ]
     },
     "execution_count": 44,
     "metadata": {},
     "output_type": "execute_result"
    }
   ],
   "source": [
    "# info[-2]"
   ]
  },
  {
   "cell_type": "code",
   "execution_count": 46,
   "id": "20b79f34",
   "metadata": {},
   "outputs": [
    {
     "name": "stdout",
     "output_type": "stream",
     "text": [
      "dummped all contacts info Successfully\n"
     ]
    }
   ],
   "source": [
    "dump_data(info)"
   ]
  },
  {
   "cell_type": "code",
   "execution_count": null,
   "id": "5585f51f",
   "metadata": {},
   "outputs": [],
   "source": []
  }
 ],
 "metadata": {
  "kernelspec": {
   "display_name": "Python 3 (ipykernel)",
   "language": "python",
   "name": "python3"
  },
  "language_info": {
   "codemirror_mode": {
    "name": "ipython",
    "version": 3
   },
   "file_extension": ".py",
   "mimetype": "text/x-python",
   "name": "python",
   "nbconvert_exporter": "python",
   "pygments_lexer": "ipython3",
   "version": "3.9.5"
  }
 },
 "nbformat": 4,
 "nbformat_minor": 5
}
